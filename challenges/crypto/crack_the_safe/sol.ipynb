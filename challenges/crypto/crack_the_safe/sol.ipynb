{
 "cells": [
  {
   "cell_type": "markdown",
   "id": "97563789",
   "metadata": {},
   "source": [
    "The challenge is as follows:\n",
    "\n",
    "```py\n",
    "from Crypto.Cipher import AES\n",
    "from secret import key, FLAG\n",
    "\n",
    "p = 4170887899225220949299992515778389605737976266979828742347\n",
    "ct = bytes.fromhex(\"ae7d2e82a804a5a2dcbc5d5622c94b3e14f8c5a752a51326e42cda6d8efa4696\")\n",
    "\n",
    "def crack_safe(key):\n",
    "    return pow(7, int.from_bytes(key, 'big'), p) == 0x49545b7d5204bd639e299bc265ca987fb4b949c461b33759\n",
    "\n",
    "assert crack_safe(key) and AES.new(key,AES.MODE_ECB).decrypt(ct) == FLAG\n",
    "```"
   ]
  },
  {
   "cell_type": "markdown",
   "id": "85a3f08a",
   "metadata": {},
   "source": [
    "Note that we must have that $$ 7 ^ k = \\mathtt{0x495}\\cdots\\mathtt{759} \\pmod{p} $$ where $p$ is a 192 bit prime.\n",
    "\n",
    "While this is already not secure, we have that $\\phi(p) = p-1$ has many small factors:\n",
    "\n",
    "```gp\n",
    "? p=4170887899225220949299992515778389605737976266979828742347;factorint(p-1)\n",
    "%1 = \n",
    "[                        2 1]\n",
    "\n",
    "[                       19 1]\n",
    "\n",
    "[                      151 1]\n",
    "\n",
    "[                      577 1]\n",
    "\n",
    "[                    67061 1]\n",
    "\n",
    "[              18279232319 1]\n",
    "\n",
    "[             111543376699 1]\n",
    "\n",
    "[9213409941746658353293481 1]\n",
    "```\n",
    "\n",
    "For the smaller factors, we can use Sage's built-in baby-step giant-step implementation which runs in $O(\\sqrt{p})$; however, for the largest prime factor $p'$, we use CADO-NFS to calculate this part of the discrete logarithm:\n",
    "\n",
    "```\n",
    "$ ./cado-nfs.py -dlp -ell 9213409941746658353293481 target=1798034623618994974454756356126246972179657041628028417881 4170887899225220949299992515778389605737976266979828742347 -t all --workdir /tmp/cado-nfs-tmp\n",
    "[[...]]\n",
    "Info:root: If you want to compute one or several new target(s), run ./cado-nfs.py /tmp/cado-nfs-tmp/p60.parameters_snapshot.3 target=<target>[,<target>,...]\n",
    "Info:root: logbase = 689700230313623370222183478814904246546188182712829892313\n",
    "Info:root: target = 1798034623618994974454756356126246972179657041628028417881\n",
    "Info:root: log(target) = 2215765705042274080663116 mod ell\n",
    "2215765705042274080663116\n",
    "$ ./cado-nfs.py /tmp/cado-nfs-tmp/p60.parameters_snapshot.0 target=7\n",
    "[[...]]\n",
    "Info:root: logbase = 689700230313623370222183478814904246546188182712829892313\n",
    "Info:root: target = 7\n",
    "Info:root: log(target) = 6424341129540508417798214 mod ell\n",
    "6424341129540508417798214\n",
    "\n",
    "```\n",
    "\n",
    "Therefore, we have:\n",
    "\n",
    "$$ k \\equiv \\frac{2215765705042274080663116}{6424341129540508417798214} \\pmod{p'}$$\n",
    "\n",
    "Now, use Pohlig-Hellman and Sage to reconstruct the original discrete logarithm:"
   ]
  },
  {
   "cell_type": "code",
   "execution_count": 66,
   "id": "19a4721d",
   "metadata": {},
   "outputs": [],
   "source": [
    "from sage.all import *\n",
    "from sage.groups.generic import bsgs\n",
    "\n",
    "p = 4170887899225220949299992515778389605737976266979828742347\n",
    "g = Mod(7, p)\n",
    "h = Mod(1798034623618994974454756356126246972179657041628028417881, p)\n",
    "\n",
    "p_large = 9213409941746658353293481\n",
    "\n",
    "e_precalc = int(Integers(p_large)(2215765705042274080663116)/(6424341129540508417798214))\n",
    "\n",
    "exponents, moduli = [], []\n",
    "\n",
    "for p_, e_ in list(factor(p-1)):\n",
    "    # print(p_, e_)\n",
    "    g_i = pow(g, (p-1)//(p_**e_))\n",
    "    h_i = pow(h, (p-1)//(p_**e_))\n",
    "    if p_ != p_large:\n",
    "        try:\n",
    "            exponents.append(bsgs(g_i, h_i, (0, p_**e_-1)))\n",
    "            moduli.append(p_**e_)\n",
    "        except:\n",
    "            continue\n",
    "    else:\n",
    "        exponents.append(e_precalc)\n",
    "        moduli.append(p_large)\n",
    "        \n",
    "k = int(crt(exponents, moduli))\n",
    "assert pow(g, k, p) == h"
   ]
  },
  {
   "cell_type": "markdown",
   "id": "fe2467ab",
   "metadata": {},
   "source": [
    "We can now decrypt the flag:"
   ]
  },
  {
   "cell_type": "code",
   "execution_count": 67,
   "id": "6a114ec5",
   "metadata": {},
   "outputs": [
    {
     "data": {
      "text/plain": [
       "b'uiuctf{Dl0g_w/__UnS4F3__pR1Me5_}'"
      ]
     },
     "execution_count": 67,
     "metadata": {},
     "output_type": "execute_result"
    }
   ],
   "source": [
    "from Crypto.Cipher import AES\n",
    "\n",
    "ct = bytes.fromhex(\"ae7d2e82a804a5a2dcbc5d5622c94b3e14f8c5a752a51326e42cda6d8efa4696\")\n",
    "AES.new(int.to_bytes(k, 128//8, 'big'), AES.MODE_ECB).decrypt(ct)"
   ]
  }
 ],
 "metadata": {
  "kernelspec": {
   "display_name": "Python 3 (ipykernel)",
   "language": "python",
   "name": "python3"
  },
  "language_info": {
   "codemirror_mode": {
    "name": "ipython",
    "version": 3
   },
   "file_extension": ".py",
   "mimetype": "text/x-python",
   "name": "python",
   "nbconvert_exporter": "python",
   "pygments_lexer": "ipython3",
   "version": "3.10.6"
  }
 },
 "nbformat": 4,
 "nbformat_minor": 5
}
